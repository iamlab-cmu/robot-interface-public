{
 "cells": [
  {
   "cell_type": "code",
   "execution_count": 25,
   "metadata": {},
   "outputs": [
    {
     "name": "stdout",
     "output_type": "stream",
     "text": [
      "The autoreload extension is already loaded. To reload it, use:\n",
      "  %reload_ext autoreload\n"
     ]
    }
   ],
   "source": [
    "import numpy as np\n",
    "\n",
    "import matplotlib\n",
    "matplotlib.use('Agg')\n",
    "import matplotlib.pyplot as plt\n",
    "\n",
    "import sys\n",
    "import pickle\n",
    "import os\n",
    "import pdb\n",
    " \n",
    "import matplotlib.pyplot as plt\n",
    "from mpl_toolkits.mplot3d import Axes3D\n",
    "from matplotlib import cm\n",
    "from matplotlib.ticker import LinearLocator, FormatStrFormatter\n",
    "import seaborn as sns\n",
    "\n",
    "# %pylab inline\n",
    "# inline doesn't give interactive plots\n",
    "%matplotlib inline \n",
    "# %matplotlib notebook\n",
    "plt.rcParams['figure.figsize'] = (6.0, 6.0) # set default size of plots\n",
    "plt.rcParams['image.interpolation'] = 'nearest'\n",
    "plt.rcParams['image.cmap'] = 'Blues'\n",
    "\n",
    "%load_ext autoreload\n",
    "%autoreload 2\n",
    "\n",
    "sns.set()\n",
    "\n",
    "sys.path.append(\"../workstation/\")\n",
    "\n",
    "from utils.trajectory_utils import truncate_expert_data\n",
    "from utils import data_utils\n",
    "from utils.control_loop_data import ControlLoopData"
   ]
  },
  {
   "cell_type": "code",
   "execution_count": 26,
   "metadata": {},
   "outputs": [],
   "source": [
    "def plot_2d_array(data, figsize=(6, 6), legend_label='', title='',\n",
    "                  xlabel='', ylabel='', colors=[], marker='o',\n",
    "                  linestyle='', linewidth=1.0, markersize=1):\n",
    "    '''Plt a 2D numpy array.'''\n",
    "    if len(colors) == 0:\n",
    "        colors = sns.color_palette(n_colors=data.shape[1])\n",
    "    \n",
    "    if type(legend_label) is str and len(legend_label) == 0:\n",
    "        legend_label = [str(i) for i in range(data.shape[1])]\n",
    "    \n",
    "    fig = plt.figure(figsize=figsize)\n",
    "    ax = fig.add_subplot(111, title=title)\n",
    "    ax.set_xlabel(xlabel)\n",
    "    ax.set_ylabel(ylabel)\n",
    "    lines = []\n",
    "    for i in range(data.shape[1]):\n",
    "        l = ax.plot(data[:, i], color=colors[i], label=legend_label[i],\n",
    "                     marker=marker, linestyle='dashed',\n",
    "                     linewidth=linewidth, markersize=markersize)\n",
    "        lines.append(l[0])\n",
    "    plt.legend(handles=lines)\n",
    "    plt.show()"
   ]
  },
  {
   "cell_type": "code",
   "execution_count": 27,
   "metadata": {
    "scrolled": false
   },
   "outputs": [
    {
     "name": "stdout",
     "output_type": "stream",
     "text": [
      "[(0, 3982), (3982, 7976), (7976, 11977), (11977, 13164), (13164, 14362), (14362, 15564), (15564, 16763), (16763, 17964), (17964, 19163), (19163, 20363), (20363, 21565), (21565, 22767), (22767, 26767), (26767, 27966), (27966, 29162), (29162, 30360), (30360, 31562), (31562, 32756), (32756, 33957), (33957, 35159), (35159, 36360), (36360, 37562), (37562, 39555), (39555, 41557), (41557, 42392), (42392, 43594), (43594, 44796), (44796, 45992), (45992, 47186), (47186, 48388), (48388, 49590), (49590, 50786), (50786, 51984), (51984, 53186), (53186, 73552), (73552, 77552), (77552, 81548), (81548, 83540), (83540, 85542), (85542, 86395), (86395, 87591), (87591, 88793), (88793, 89995), (89995, 91192), (91192, 92394), (92394, 93596), (93596, 94791), (94791, 95993), (95993, 97195), (97195, 117589), (117589, 121584), (121584, 125582), (125582, 127584), (127584, 129586), (129586, 131566), (131566, 132766), (132766, 133968)]\n",
      "Skill: 0, time: 3.982\n",
      "Skill: 1, time: 3.994\n",
      "Skill: 2, time: 4.001\n",
      "Skill: 3, time: 1.187\n",
      "Skill: 4, time: 1.198\n",
      "Skill: 5, time: 1.202\n",
      "Skill: 6, time: 1.199\n",
      "Skill: 7, time: 1.201\n",
      "Skill: 8, time: 1.199\n",
      "Skill: 9, time: 1.200\n",
      "Skill: 10, time: 1.202\n",
      "Skill: 11, time: 1.202\n",
      "Skill: 12, time: 4.000\n",
      "Skill: 13, time: 1.199\n",
      "Skill: 14, time: 1.196\n",
      "Skill: 15, time: 1.198\n",
      "Skill: 16, time: 1.202\n",
      "Skill: 17, time: 1.194\n",
      "Skill: 18, time: 1.201\n",
      "Skill: 19, time: 1.202\n",
      "Skill: 20, time: 1.201\n",
      "Skill: 21, time: 1.202\n",
      "Skill: 22, time: 1.993\n",
      "Skill: 23, time: 2.002\n",
      "Skill: 24, time: 0.835\n",
      "Skill: 25, time: 1.202\n",
      "Skill: 26, time: 1.202\n",
      "Skill: 27, time: 1.196\n",
      "Skill: 28, time: 1.194\n",
      "Skill: 29, time: 1.202\n",
      "Skill: 30, time: 1.202\n",
      "Skill: 31, time: 1.196\n",
      "Skill: 32, time: 1.198\n",
      "Skill: 33, time: 1.202\n",
      "Skill: 34, time: 20.366\n",
      "Skill: 35, time: 4.000\n",
      "Skill: 36, time: 3.996\n",
      "Skill: 37, time: 1.992\n",
      "Skill: 38, time: 2.002\n",
      "Skill: 39, time: 0.853\n",
      "Skill: 40, time: 1.196\n",
      "Skill: 41, time: 1.202\n",
      "Skill: 42, time: 1.202\n",
      "Skill: 43, time: 1.197\n",
      "Skill: 44, time: 1.202\n",
      "Skill: 45, time: 1.202\n",
      "Skill: 46, time: 1.195\n",
      "Skill: 47, time: 1.202\n",
      "Skill: 48, time: 1.202\n",
      "Skill: 49, time: 20.394\n",
      "Skill: 50, time: 3.995\n",
      "Skill: 51, time: 3.998\n",
      "Skill: 52, time: 2.002\n",
      "Skill: 53, time: 2.002\n",
      "Skill: 54, time: 1.980\n",
      "Skill: 55, time: 1.200\n",
      "Skill: 56, time: 1.202\n"
     ]
    },
    {
     "data": {
      "image/png": "[encoded data removed]",
      "text/plain": [
       "<Figure size 432x432 with 1 Axes>"
      ]
     },
     "metadata": {},
     "output_type": "display_data"
    },
    {
     "name": "stdout",
     "output_type": "stream",
     "text": [
      "--Return--\n",
      "> <ipython-input-27-e5dc9e78dafa>(16)<module>()->None\n",
      "-> pdb.set_trace()\n",
      "(Pdb) control_loop_data.robot_data_by_skill_info_dict.keys()\n",
      "dict_keys(['info: Will execute skill: 42 meta_skill: 0 desc: move_onto_cucumber_to_cut_1 type: ArmRelativeMotionToContactWithDefaultSensorSkill  id: 42', 'info: Will execute skill: 45 meta_skill: 0 desc: random_exploration_on_cucumber_1_x_3_pos_0.005_time_0.200 type: ArmRelativeMotionToContactWithDefaultSensorSkill  id: 45', 'info: Will execute skill: 48 meta_skill: 0 desc: random_exploration_on_cucumber_1_y_3_pos_0.005_time_0.200 type: ArmRelativeMotionToContactWithDefaultSensorSkill  id: 48', 'info: Will execute skill: 51 meta_skill: 0 desc: random_exploration_on_cucumber_1_z_3_pos_0.005_time_0.200 type: ArmRelativeMotionToContactWithDefaultSensorSkill  id: 51', 'info: Will execute skill: 11 meta_skill: 0 desc: random_exploration_on_cutting_board_z_3_pos_0.005_time_0.200 type: ArmRelativeMotionToContactWithDefaultSensorSkill  id: 11', 'info: Will execute skill: 14 meta_skill: 0 desc: random_exploration_next_to_cucumber_x_2_pos_0.005_time_0.200 type: ArmRelativeMotionToContactWithDefaultSensorSkill  id: 14', 'info: Will execute skill: 57 meta_skill: 0 desc: move_left_to_contact_cucumber_after_slice_1 type: ArmMoveToGoalContactWithDefaultSensorSkill  id: 57', 'info: Will execute skill: 59 meta_skill: 0 desc: move_left_to_cut_slice_2 type: ArmRelativeMotionWithDefaultSensorSkill  id: 59', 'info: Will execute skill: 15 meta_skill: 0 desc: random_exploration_next_to_cucumber_x_3_pos_0.005_time_0.200 type: ArmRelativeMotionToContactWithDefaultSensorSkill  id: 15', 'info: Will execute skill: 39 meta_skill: 0 desc: move_left_to_contact_cucumber_after_slice_0 type: ArmMoveToGoalContactWithDefaultSensorSkill  id: 39', 'info: Will execute skill: 41 meta_skill: 0 desc: move_left_to_cut_slice_1 type: ArmRelativeMotionWithDefaultSensorSkill  id: 41', 'info: Will execute skill: 10 meta_skill: 0 desc: random_exploration_on_cutting_board_z_2_pos_0.005_time_0.200 type: ArmRelativeMotionToContactWithDefaultSensorSkill  id: 10', 'info: Will execute skill: 38 meta_skill: 0 desc: move_to_separate_cut_slice_0 type: ArmRelativeMotionWithDefaultSensorSkill  id: 38', 'info: Will execute skill: 52 meta_skill: 2 desc: cut_dmp type: JointPoseWithDefaultSensorSkill  id: 52', 'info: Will execute skill: 1 meta_skill: 0 desc: move_above_cutting_board type: ArmMoveToGoalWithDefaultSensorSkill  id: 1', 'info: Will execute skill: 13 meta_skill: 0 desc: random_exploration_next_to_cucumber_x_1_pos_0.005_time_0.200 type: ArmRelativeMotionToContactWithDefaultSensorSkill  id: 13', 'info: Will execute skill: 61 meta_skill: 0 desc: random_exploration_on_cucumber_2_x_1_pos_0.005_time_0.200 type: ArmRelativeMotionToContactWithDefaultSensorSkill  id: 61', 'info: Will execute skill: 20 meta_skill: 0 desc: random_exploration_next_to_cucumber_z_2_pos_0.005_time_0.200 type: ArmRelativeMotionToContactWithDefaultSensorSkill  id: 20', 'info: Will execute skill: 33 meta_skill: 0 desc: random_exploration_on_cucumber_0_z_3_pos_0.005_time_0.200 type: ArmRelativeMotionToContactWithDefaultSensorSkill  id: 33', 'info: Will execute skill: 31 meta_skill: 0 desc: random_exploration_on_cucumber_0_z_1_pos_0.005_time_0.200 type: ArmRelativeMotionToContactWithDefaultSensorSkill  id: 31', 'info: Will execute skill: 62 meta_skill: 0 desc: random_exploration_on_cucumber_2_x_2_pos_0.005_time_0.200 type: ArmRelativeMotionToContactWithDefaultSensorSkill  id: 62', 'info: Will execute skill: 40 meta_skill: 0 desc: move_up_above_cucumber_1 type: ArmRelativeMotionWithDefaultSensorSkill  id: 40', 'info: Will execute skill: 27 meta_skill: 0 desc: random_exploration_on_cucumber_0_x_3_pos_0.005_time_0.200 type: ArmRelativeMotionToContactWithDefaultSensorSkill  id: 27', 'info: Will execute skill: 50 meta_skill: 0 desc: random_exploration_on_cucumber_1_z_2_pos_0.005_time_0.200 type: ArmRelativeMotionToContactWithDefaultSensorSkill  id: 50', 'info: Will execute skill: 56 meta_skill: 0 desc: move_to_separate_cut_slice_1 type: ArmRelativeMotionWithDefaultSensorSkill  id: 56', 'info: Will execute skill: 34 meta_skill: 1 desc: cut_dmp type: JointPoseWithDefaultSensorSkill  id: 34', 'info: Will execute skill: 44 meta_skill: 0 desc: random_exploration_on_cucumber_1_x_2_pos_0.005_time_0.200 type: ArmRelativeMotionToContactWithDefaultSensorSkill  id: 44', 'info: Will execute skill: 23 meta_skill: 0 desc: move_left_to_cut_slice_0 type: ArmRelativeMotionWithDefaultSensorSkill  id: 23', 'info: Will execute skill: 22 meta_skill: 0 desc: move_up_above_cucumber_0 type: ArmRelativeMotionWithDefaultSensorSkill  id: 22', 'info: Will execute skill: 3 meta_skill: 0 desc: random_exploration_on_cutting_board_x_1_pos_0.005_time_0.200 type: ArmRelativeMotionToContactWithDefaultSensorSkill  id: 3', 'info: Will execute skill: 46 meta_skill: 0 desc: random_exploration_on_cucumber_1_y_1_pos_0.005_time_0.200 type: ArmRelativeMotionToContactWithDefaultSensorSkill  id: 46', 'info: Will execute skill: 7 meta_skill: 0 desc: random_exploration_on_cutting_board_y_2_pos_0.005_time_0.200 type: ArmRelativeMotionToContactWithDefaultSensorSkill  id: 7', 'info: Will execute skill: 58 meta_skill: 0 desc: move_up_above_cucumber_2 type: ArmRelativeMotionWithDefaultSensorSkill  id: 58', 'info: Will execute skill: 29 meta_skill: 0 desc: random_exploration_on_cucumber_0_y_2_pos_0.005_time_0.200 type: ArmRelativeMotionToContactWithDefaultSensorSkill  id: 29', 'info: Will execute skill: 5 meta_skill: 0 desc: random_exploration_on_cutting_board_x_3_pos_0.005_time_0.200 type: ArmRelativeMotionToContactWithDefaultSensorSkill  id: 5', 'info: Will execute skill: 8 meta_skill: 0 desc: random_exploration_on_cutting_board_y_3_pos_0.005_time_0.200 type: ArmRelativeMotionToContactWithDefaultSensorSkill  id: 8', 'info: Will execute skill: 43 meta_skill: 0 desc: random_exploration_on_cucumber_1_x_1_pos_0.005_time_0.200 type: ArmRelativeMotionToContactWithDefaultSensorSkill  id: 43', 'info: Will execute skill: 2 meta_skill: 0 desc: move_onto_cutting_board type: ArmMoveToGoalWithDefaultSensorSkill  id: 2', 'info: Will execute skill: 12 meta_skill: 0 desc: move_left_to_contact_cucumber type: ArmMoveToGoalContactWithDefaultSensorSkill  id: 12', 'info: Will execute skill: 6 meta_skill: 0 desc: random_exploration_on_cutting_board_y_1_pos_0.005_time_0.200 type: ArmRelativeMotionToContactWithDefaultSensorSkill  id: 6', 'info: Will execute skill: 32 meta_skill: 0 desc: random_exploration_on_cucumber_0_z_2_pos_0.005_time_0.200 type: ArmRelativeMotionToContactWithDefaultSensorSkill  id: 32', 'info: Will execute skill: 60 meta_skill: 0 desc: move_onto_cucumber_to_cut_2 type: ArmRelativeMotionToContactWithDefaultSensorSkill  id: 60', 'info: Will execute skill: 21 meta_skill: 0 desc: random_exploration_next_to_cucumber_z_3_pos_0.005_time_0.200 type: ArmRelativeMotionToContactWithDefaultSensorSkill  id: 21', 'info: Will execute skill: 4 meta_skill: 0 desc: random_exploration_on_cutting_board_x_2_pos_0.005_time_0.200 type: ArmRelativeMotionToContactWithDefaultSensorSkill  id: 4', 'info: Will execute skill: 26 meta_skill: 0 desc: random_exploration_on_cucumber_0_x_2_pos_0.005_time_0.200 type: ArmRelativeMotionToContactWithDefaultSensorSkill  id: 26', 'info: Will execute skill: 30 meta_skill: 0 desc: random_exploration_on_cucumber_0_y_3_pos_0.005_time_0.200 type: ArmRelativeMotionToContactWithDefaultSensorSkill  id: 30', 'info: Will execute skill: 16 meta_skill: 0 desc: random_exploration_next_to_cucumber_y_1_pos_0.005_time_0.200 type: ArmRelativeMotionToContactWithDefaultSensorSkill  id: 16', 'info: Will execute skill: 24 meta_skill: 0 desc: move_onto_cucumber_to_cut_0 type: ArmRelativeMotionToContactWithDefaultSensorSkill  id: 24', 'info: Will execute skill: 17 meta_skill: 0 desc: random_exploration_next_to_cucumber_y_2_pos_0.005_time_0.200 type: ArmRelativeMotionToContactWithDefaultSensorSkill  id: 17', 'info: Will execute skill: 28 meta_skill: 0 desc: random_exploration_on_cucumber_0_y_1_pos_0.005_time_0.200 type: ArmRelativeMotionToContactWithDefaultSensorSkill  id: 28', 'info: Will execute skill: 19 meta_skill: 0 desc: random_exploration_next_to_cucumber_z_1_pos_0.005_time_0.200 type: ArmRelativeMotionToContactWithDefaultSensorSkill  id: 19', 'info: Will execute skill: 47 meta_skill: 0 desc: random_exploration_on_cucumber_1_y_2_pos_0.005_time_0.200 type: ArmRelativeMotionToContactWithDefaultSensorSkill  id: 47', 'info: Will execute skill: 25 meta_skill: 0 desc: random_exploration_on_cucumber_0_x_1_pos_0.005_time_0.200 type: ArmRelativeMotionToContactWithDefaultSensorSkill  id: 25', 'info: Will execute skill: 9 meta_skill: 0 desc: random_exploration_on_cutting_board_z_1_pos_0.005_time_0.200 type: ArmRelativeMotionToContactWithDefaultSensorSkill  id: 9', 'info: Will execute skill: 18 meta_skill: 0 desc: random_exploration_next_to_cucumber_y_3_pos_0.005_time_0.200 type: ArmRelativeMotionToContactWithDefaultSensorSkill  id: 18', 'info: Will execute skill: 0 meta_skill: 0 desc: move_to_initial_position type: ArmMoveToGoalWithDefaultSensorSkill  id: 0', 'info: Will execute skill: 49 meta_skill: 0 desc: random_exploration_on_cucumber_1_z_1_pos_0.005_time_0.200 type: ArmRelativeMotionToContactWithDefaultSensorSkill  id: 49'])\n"
     ]
    },
    {
     "name": "stdout",
     "output_type": "stream",
     "text": [
      "(Pdb) quit()\n"
     ]
    },
    {
     "ename": "BdbQuit",
     "evalue": "",
     "output_type": "error",
     "traceback": [
      "\u001b[0;31m---------------------------------------------------------------------------\u001b[0m",
      "\u001b[0;31mBdbQuit\u001b[0m                                   Traceback (most recent call last)",
      "\u001b[0;32m<ipython-input-27-e5dc9e78dafa>\u001b[0m in \u001b[0;36m<module>\u001b[0;34m\u001b[0m\n\u001b[1;32m     14\u001b[0m \u001b[0mplt\u001b[0m\u001b[0;34m.\u001b[0m\u001b[0mshow\u001b[0m\u001b[0;34m(\u001b[0m\u001b[0;34m)\u001b[0m\u001b[0;34m\u001b[0m\u001b[0m\n\u001b[1;32m     15\u001b[0m \u001b[0;34m\u001b[0m\u001b[0m\n\u001b[0;32m---> 16\u001b[0;31m \u001b[0mpdb\u001b[0m\u001b[0;34m.\u001b[0m\u001b[0mset_trace\u001b[0m\u001b[0;34m(\u001b[0m\u001b[0;34m)\u001b[0m\u001b[0;34m\u001b[0m\u001b[0m\n\u001b[0m\u001b[1;32m     17\u001b[0m \u001b[0;34m\u001b[0m\u001b[0m\n\u001b[1;32m     18\u001b[0m \u001b[0;31m# plt.plot(control_loop_data.data_as_ord_dict['q'][:, :])\u001b[0m\u001b[0;34m\u001b[0m\u001b[0;34m\u001b[0m\u001b[0m\n",
      "\u001b[0;32m~/anaconda2/envs/default_py35/lib/python3.5/bdb.py\u001b[0m in \u001b[0;36mtrace_dispatch\u001b[0;34m(self, frame, event, arg)\u001b[0m\n\u001b[1;32m     50\u001b[0m             \u001b[0;32mreturn\u001b[0m \u001b[0mself\u001b[0m\u001b[0;34m.\u001b[0m\u001b[0mdispatch_call\u001b[0m\u001b[0;34m(\u001b[0m\u001b[0mframe\u001b[0m\u001b[0;34m,\u001b[0m \u001b[0marg\u001b[0m\u001b[0;34m)\u001b[0m\u001b[0;34m\u001b[0m\u001b[0m\n\u001b[1;32m     51\u001b[0m         \u001b[0;32mif\u001b[0m \u001b[0mevent\u001b[0m \u001b[0;34m==\u001b[0m \u001b[0;34m'return'\u001b[0m\u001b[0;34m:\u001b[0m\u001b[0;34m\u001b[0m\u001b[0m\n\u001b[0;32m---> 52\u001b[0;31m             \u001b[0;32mreturn\u001b[0m \u001b[0mself\u001b[0m\u001b[0;34m.\u001b[0m\u001b[0mdispatch_return\u001b[0m\u001b[0;34m(\u001b[0m\u001b[0mframe\u001b[0m\u001b[0;34m,\u001b[0m \u001b[0marg\u001b[0m\u001b[0;34m)\u001b[0m\u001b[0;34m\u001b[0m\u001b[0m\n\u001b[0m\u001b[1;32m     53\u001b[0m         \u001b[0;32mif\u001b[0m \u001b[0mevent\u001b[0m \u001b[0;34m==\u001b[0m \u001b[0;34m'exception'\u001b[0m\u001b[0;34m:\u001b[0m\u001b[0;34m\u001b[0m\u001b[0m\n\u001b[1;32m     54\u001b[0m             \u001b[0;32mreturn\u001b[0m \u001b[0mself\u001b[0m\u001b[0;34m.\u001b[0m\u001b[0mdispatch_exception\u001b[0m\u001b[0;34m(\u001b[0m\u001b[0mframe\u001b[0m\u001b[0;34m,\u001b[0m \u001b[0marg\u001b[0m\u001b[0;34m)\u001b[0m\u001b[0;34m\u001b[0m\u001b[0m\n",
      "\u001b[0;32m~/anaconda2/envs/default_py35/lib/python3.5/bdb.py\u001b[0m in \u001b[0;36mdispatch_return\u001b[0;34m(self, frame, arg)\u001b[0m\n\u001b[1;32m     94\u001b[0m             \u001b[0;32mfinally\u001b[0m\u001b[0;34m:\u001b[0m\u001b[0;34m\u001b[0m\u001b[0m\n\u001b[1;32m     95\u001b[0m                 \u001b[0mself\u001b[0m\u001b[0;34m.\u001b[0m\u001b[0mframe_returning\u001b[0m \u001b[0;34m=\u001b[0m \u001b[0;32mNone\u001b[0m\u001b[0;34m\u001b[0m\u001b[0m\n\u001b[0;32m---> 96\u001b[0;31m             \u001b[0;32mif\u001b[0m \u001b[0mself\u001b[0m\u001b[0;34m.\u001b[0m\u001b[0mquitting\u001b[0m\u001b[0;34m:\u001b[0m \u001b[0;32mraise\u001b[0m \u001b[0mBdbQuit\u001b[0m\u001b[0;34m\u001b[0m\u001b[0m\n\u001b[0m\u001b[1;32m     97\u001b[0m             \u001b[0;31m# The user issued a 'next' or 'until' command.\u001b[0m\u001b[0;34m\u001b[0m\u001b[0;34m\u001b[0m\u001b[0m\n\u001b[1;32m     98\u001b[0m             \u001b[0;32mif\u001b[0m \u001b[0mself\u001b[0m\u001b[0;34m.\u001b[0m\u001b[0mstopframe\u001b[0m \u001b[0;32mis\u001b[0m \u001b[0mframe\u001b[0m \u001b[0;32mand\u001b[0m \u001b[0mself\u001b[0m\u001b[0;34m.\u001b[0m\u001b[0mstoplineno\u001b[0m \u001b[0;34m!=\u001b[0m \u001b[0;34m-\u001b[0m\u001b[0;36m1\u001b[0m\u001b[0;34m:\u001b[0m\u001b[0;34m\u001b[0m\u001b[0m\n",
      "\u001b[0;31mBdbQuit\u001b[0m: "
     ]
    }
   ],
   "source": [
    "control_loop_data_path = '/media/hdd/mohit/mohit_data_exploration_4/control_loop_data.txt'\n",
    "control_loop_data_path = '/media/hdd/mohit/mohit_data_exploration_jan_25_3/control_loop_data.txt'\n",
    "csv_data = data_utils.read_data_as_csv(control_loop_data_path, non_csv_rows_prefix='info')\n",
    "\n",
    "control_loop_data = ControlLoopData(csv_data) \n",
    "print(control_loop_data.skill_time_as_tuple_list)\n",
    "\n",
    "skill_times = control_loop_data.get_duration_for_each_skill()\n",
    "skill_times_in_seconds = [t/1000.0 for t in skill_times] \n",
    "for i, t in enumerate(skill_times_in_seconds):\n",
    "    print(\"Skill: {}, time: {:.3f}\".format(i, t))\n",
    "    \n",
    "matplotlib.pyplot.bar(range(len(skill_times_in_seconds)), skill_times_in_seconds)\n",
    "plt.show()\n",
    "\n",
    "pdb.set_trace()\n",
    "\n",
    "# plt.plot(control_loop_data.data_as_ord_dict['q'][:, :])\n",
    "# plt.show()\n",
    "plot_2d_array(control_loop_data.data_as_ord_dict['q'], title='q',\n",
    "              legend_label=['0', '1', '2', '3', '4', '5', '6'],\n",
    "              figsize=(8, 8))\n",
    "plot_2d_array(control_loop_data.data_as_ord_dict['dq'], figsize=(8, 8), title='dq')\n",
    "\n",
    "type(csv_data)\n",
    "\n",
    "# Plot different properties for all of the skills?\n"
   ]
  },
  {
   "cell_type": "code",
   "execution_count": null,
   "metadata": {},
   "outputs": [],
   "source": []
  }
 ],
 "metadata": {
  "kernelspec": {
   "display_name": "Python 3",
   "language": "python",
   "name": "python3"
  },
  "language_info": {
   "codemirror_mode": {
    "name": "ipython",
    "version": 3
   },
   "file_extension": ".py",
   "mimetype": "text/x-python",
   "name": "python",
   "nbconvert_exporter": "python",
   "pygments_lexer": "ipython3",
   "version": "3.5.6"
  }
 },
 "nbformat": 4,
 "nbformat_minor": 2
}
