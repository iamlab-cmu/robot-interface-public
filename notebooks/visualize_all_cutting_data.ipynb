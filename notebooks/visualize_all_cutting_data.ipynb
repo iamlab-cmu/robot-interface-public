{
 "cells": [
  {
   "cell_type": "code",
   "execution_count": 1,
   "metadata": {},
   "outputs": [],
   "source": [
    "import numpy as np\n",
    "\n",
    "import matplotlib\n",
    "matplotlib.use('Agg')\n",
    "import matplotlib.pyplot as plt\n",
    "\n",
    "import sys\n",
    "import pickle\n",
    "import os\n",
    "import pdb\n",
    " \n",
    "import matplotlib.pyplot as plt\n",
    "from mpl_toolkits.mplot3d import Axes3D\n",
    "from matplotlib import cm\n",
    "from matplotlib.ticker import LinearLocator, FormatStrFormatter\n",
    "import seaborn as sns\n",
    "\n",
    "# %pylab inline\n",
    "# inline doesn't give interactive plots\n",
    "%matplotlib inline \n",
    "# %matplotlib notebook\n",
    "plt.rcParams['figure.figsize'] = (6.0, 6.0) # set default size of plots\n",
    "plt.rcParams['image.interpolation'] = 'nearest'\n",
    "plt.rcParams['image.cmap'] = 'Blues'\n",
    "\n",
    "%load_ext autoreload\n",
    "%autoreload 2\n",
    "\n",
    "sns.set()\n",
    "\n",
    "sys.path.append(\"../workstatation\")\n",
    "\n",
    "from utils.trajectory_utils import truncate_expert_data\n",
    "from utils import data_utils\n",
    "from utils.control_loop_data import ControlLoopData"
   ]
  },
  {
   "cell_type": "code",
   "execution_count": 2,
   "metadata": {},
   "outputs": [
    {
     "name": "stdout",
     "output_type": "stream",
     "text": [
      "[(0, 4000), (4000, 8002), (8002, 12002), (12002, 14162), (14162, 18164), (18164, 22161), (22161, 23197), (23197, 43585), (43585, 44583), (44583, 48583), (48583, 52582), (52582, 53491), (53491, 73898), (73898, 74889), (74889, 78881), (78881, 82858), (82858, 83840), (83840, 104083), (104083, 105083)]\n"
     ]
    },
    {
     "data": {
      "text/plain": [
       "dict"
      ]
     },
     "execution_count": 2,
     "metadata": {},
     "output_type": "execute_result"
    },
    {
     "data": {
      "image/png": "[encoded data removed]",
      "text/plain": [
       "<Figure size 432x432 with 1 Axes>"
      ]
     },
     "metadata": {},
     "output_type": "display_data"
    }
   ],
   "source": [
    "control_loop_data_path = '/home/mohit/try_4/control_loop_data.txt'\n",
    "csv_data = data_utils.read_data_as_csv(control_loop_data_path)\n",
    "\n",
    "control_loop_data = ControlLoopData(csv_data) \n",
    "print(control_loop_data.skill_time_as_tuple_list)\n",
    "\n",
    "skill_times = control_loop_data.get_duration_for_each_skill()\n",
    "skill_times_in_seconds = [t/1000.0 for t in skill_times] \n",
    "\n",
    "matplotlib.pyplot.bar(range(len(skill_times_in_seconds)), skill_times_in_seconds)\n",
    "\n",
    "type(csv_data)\n"
   ]
  },
  {
   "cell_type": "code",
   "execution_count": null,
   "metadata": {},
   "outputs": [],
   "source": []
  }
 ],
 "metadata": {
  "kernelspec": {
   "display_name": "Python 3",
   "language": "python",
   "name": "python3"
  },
  "language_info": {
   "codemirror_mode": {
    "name": "ipython",
    "version": 3
   },
   "file_extension": ".py",
   "mimetype": "text/x-python",
   "name": "python",
   "nbconvert_exporter": "python",
   "pygments_lexer": "ipython3",
   "version": "3.7.0"
  }
 },
 "nbformat": 4,
 "nbformat_minor": 2
}
