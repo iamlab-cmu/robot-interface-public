{
 "cells": [
  {
   "cell_type": "code",
   "execution_count": 1,
   "metadata": {},
   "outputs": [],
   "source": [
    "import numpy as np\n",
    "import matplotlib.pyplot as plt\n",
    "import sys\n",
    "\n",
    "import pickle\n",
    "import os\n",
    "import pdb\n",
    "\n",
    "sys.path.append(\"../workstatation\")\n",
    "from imitation_learning.linear_regression import DMPTrajectory, load_data, train2\n",
    "from utils.trajectory_utils import truncate_expert_data"
   ]
  },
  {
   "cell_type": "code",
   "execution_count": 2,
   "metadata": {},
   "outputs": [
    {
     "name": "stdout",
     "output_type": "stream",
     "text": [
      "Mean: [1.   0.88 0.78 0.69 0.61]\n",
      "Std: [ 55.71  71.54  91.86 117.94 117.94]\n",
      "Mean: [1.   0.88 0.78 0.69 0.61]\n",
      "Std: [ 55.71  71.54  91.86 117.94 117.94]\n",
      "Traj start: 478, end: 3597\n",
      "Traj start: 491, end: 1615\n",
      "Traj start: 318, end: 1254\n",
      "Traj start: 154, end: 1628\n",
      "Traj start: 275, end: 1502\n",
      "Traj start: 422, end: 1528\n",
      "ddq: max: -6.108, min: 6.156, mean: 0.004\n",
      "ddq: max: -13.859, min: 11.057, mean: 0.000\n",
      "ddq: max: -13.581, min: 12.603, mean: 0.004\n",
      "ddq: max: -11.030, min: 10.651, mean: 0.001\n",
      "ddq: max: -7.054, min: 7.303, mean: -0.000\n",
      "Train size: 5280 Test size: 587\n",
      "Score (max 1.0) Train: 0.011, Test: 0.018\n",
      "Got weights for dim: 0, min: -0.028, max: 0.031, avg: 0.003\n",
      "Score (max 1.0) Train: 0.102, Test: 0.084\n",
      "Got weights for dim: 1, min: -0.069, max: 0.137, avg: 0.031\n",
      "Score (max 1.0) Train: 0.003, Test: -0.008\n",
      "Got weights for dim: 2, min: -0.010, max: 0.014, avg: 0.004\n",
      "Score (max 1.0) Train: 0.204, Test: 0.167\n",
      "Got weights for dim: 3, min: -0.135, max: 0.298, avg: 0.053\n",
      "Score (max 1.0) Train: 0.015, Test: -0.007\n",
      "Got weights for dim: 4, min: -0.013, max: 0.019, avg: 0.003\n",
      "Score (max 1.0) Train: 0.053, Test: 0.038\n",
      "Got weights for dim: 5, min: -0.157, max: 0.078, avg: -0.021\n",
      "Score (max 1.0) Train: 0.008, Test: 0.003\n",
      "Got weights for dim: 6, min: -0.022, max: 0.012, avg: -0.002\n"
     ]
    },
    {
     "ename": "TypeError",
     "evalue": "save_weights() missing 1 required positional argument: 'weights'",
     "output_type": "error",
     "traceback": [
      "\u001b[0;31m---------------------------------------------------------------------------\u001b[0m",
      "\u001b[0;31mTypeError\u001b[0m                                 Traceback (most recent call last)",
      "\u001b[0;32m<ipython-input-2-269a7de1daa4>\u001b[0m in \u001b[0;36m<module>\u001b[0;34m\u001b[0m\n\u001b[1;32m     14\u001b[0m dmp_traj.save_weights(os.path.abspath(save_weights_path), \n\u001b[1;32m     15\u001b[0m                       \u001b[0mtraj_run_time\u001b[0m\u001b[0;34m=\u001b[0m\u001b[0;36m3600\u001b[0m\u001b[0;34m,\u001b[0m\u001b[0;34m\u001b[0m\u001b[0m\n\u001b[0;32m---> 16\u001b[0;31m                       dt=0.001)\n\u001b[0m\u001b[1;32m     17\u001b[0m \u001b[0;34m\u001b[0m\u001b[0m\n\u001b[1;32m     18\u001b[0m \u001b[0mall_y\u001b[0m\u001b[0;34m,\u001b[0m \u001b[0mall_dy\u001b[0m \u001b[0;34m=\u001b[0m \u001b[0;34m[\u001b[0m\u001b[0;34m]\u001b[0m\u001b[0;34m,\u001b[0m \u001b[0;34m[\u001b[0m\u001b[0;34m]\u001b[0m\u001b[0;34m\u001b[0m\u001b[0m\n",
      "\u001b[0;31mTypeError\u001b[0m: save_weights() missing 1 required positional argument: 'weights'"
     ]
    }
   ],
   "source": [
    "h5_path = '../data/traj_cut_Dec_8_7_00_PM/h5/expert_traj.h5'\n",
    "num_dims, num_basis, num_sensors = 7, 5, 2                                                                                                                                                        \n",
    "dmp_traj = DMPTrajectory(num_dims, num_basis, num_sensors)\n",
    "dmp_traj.tau = 0.75\n",
    "dmp_traj.alpha = 5.0\n",
    "dmp_traj.beta = 5.0/4\n",
    "weights = train2(dmp_traj, h5_path)  \n",
    "\n",
    "save_data_dict = {\n",
    "    'tau':dmp_traj.tau\n",
    "}\n",
    "save_weights_path = '../trained_weights/weights_tau_{:.2f}_alpha_{:.2f}_basis_{}_sensors_{}.pkl'.format(\n",
    "    dmp_traj.tau, dmp_traj.alpha, num_basis, num_sensors)\n",
    "dmp_traj.save_weights(os.path.abspath(save_weights_path), \n",
    "                      weights,\n",
    "                      traj_run_time=3600,\n",
    "                      dt=0.001)\n",
    "\n",
    "all_y, all_dy = [], []\n",
    "for i, start_val in enumerate([0.03, 0.1, 0.2]):\n",
    "    y, dy = dmp_traj.run_dmp_with_weights(\n",
    "        weights,                                                                                                                                                      \n",
    "        start_val * np.ones((dmp_traj.num_dims)),                                                                                                                                \n",
    "        0.001,                                                                                                                                                         \n",
    "        traj_time=3600)  \n",
    "    plt.plot(y)\n",
    "    plt.show()\n",
    "    all_y.append(y)\n",
    "    all_dy.append(dy)\n",
    "\n",
    "all_y, all_dy = np.array(all_y), np.array(all_dy)\n",
    "    \n",
    "x = dmp_traj.get_x_values(0.001 * np.ones((3600,)))\n",
    "plt.plot(x)\n",
    "plt.show()"
   ]
  },
  {
   "cell_type": "code",
   "execution_count": null,
   "metadata": {
    "scrolled": false
   },
   "outputs": [],
   "source": [
    "def visualize_dmp_trajectories(data, title=\"\"):\n",
    "    for i in range(data.shape[0]):\n",
    "        plt.plot(data[i, :])\n",
    "        plt.title(title)\n",
    "    plt.show()\n",
    "\n",
    "for dim in range(all_y.shape[-1]):\n",
    "    visualize_dmp_trajectories(all_y[:, :, dim], title=\"y - {}\".format(dim))\n",
    "    visualize_dmp_trajectories(all_dy[:, :, dim], title=\"dy - {}\".format(dim))"
   ]
  },
  {
   "cell_type": "code",
   "execution_count": null,
   "metadata": {},
   "outputs": [],
   "source": []
  }
 ],
 "metadata": {
  "kernelspec": {
   "display_name": "Python 2",
   "language": "python",
   "name": "python2"
  },
  "language_info": {
   "codemirror_mode": {
    "name": "ipython",
    "version": 3
   },
   "file_extension": ".py",
   "mimetype": "text/x-python",
   "name": "python",
   "nbconvert_exporter": "python",
   "pygments_lexer": "ipython3",
   "version": "3.5.6"
  }
 },
 "nbformat": 4,
 "nbformat_minor": 2
}
